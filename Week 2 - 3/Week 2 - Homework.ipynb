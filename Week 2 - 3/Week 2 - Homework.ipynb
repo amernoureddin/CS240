{
 "cells": [
  {
   "cell_type": "markdown",
   "metadata": {},
   "source": [
    "# Amer Nour Eddin | 213171245 | Week 2 Homework | 23-Feb-17 "
   ]
  },
  {
   "cell_type": "markdown",
   "metadata": {},
   "source": [
    "- Read NSFG respondent data with .ReadFemResp() function that provided by nsfg.py and assign it a variable that called pres \n",
    "- Show the columns and then show the first 20 and last 30 rows of dataframe and lastly print a sentences that show the number of rows and columns in this dataframe. For example, \"There are .. rows and .. columns\" \n",
    "- Select the agescrn column from resp and print the value counts. How old are the youngest and oldest respondents? \n",
    "- What are the pregnancy lengths(column that called \"prglngth\") for the respondent with caseid 2298? \n",
    "- What is the average of the Pregnancies in lifetime (column that called \"numpregs\") of who is 25 and under 25 years old?\n",
    "- What is the average of the Pregnancies in lifetime (column that called \"numpregs\") of who is at maximum age? that you found in 3. question"
   ]
  },
  {
   "cell_type": "code",
   "execution_count": null,
   "metadata": {
    "collapsed": true
   },
   "outputs": [],
   "source": [
    "from __future__ import print_function, division\n",
    "import nsfg"
   ]
  },
  {
   "cell_type": "code",
   "execution_count": null,
   "metadata": {
    "collapsed": false
   },
   "outputs": [],
   "source": [
    "nsfg.ReadFemPreg()\n",
    "pres = nsfg.ReadFemPreg()"
   ]
  },
  {
   "cell_type": "code",
   "execution_count": null,
   "metadata": {
    "collapsed": false
   },
   "outputs": [],
   "source": [
    "pres.columns #all columns"
   ]
  },
  {
   "cell_type": "code",
   "execution_count": null,
   "metadata": {
    "collapsed": false
   },
   "outputs": [],
   "source": [
    "pres.head(20) #first 20 rows"
   ]
  },
  {
   "cell_type": "code",
   "execution_count": null,
   "metadata": {
    "collapsed": false
   },
   "outputs": [],
   "source": [
    "pres.tail(30) #last 30 rows"
   ]
  },
  {
   "cell_type": "code",
   "execution_count": null,
   "metadata": {
    "collapsed": false
   },
   "outputs": [],
   "source": [
    "pres.columns.value_counts().sum()"
   ]
  },
  {
   "cell_type": "code",
   "execution_count": null,
   "metadata": {
    "collapsed": false
   },
   "outputs": [],
   "source": [
    "print(\"There are 13592 rows and 244 columns.\")"
   ]
  },
  {
   "cell_type": "code",
   "execution_count": null,
   "metadata": {
    "collapsed": false
   },
   "outputs": [],
   "source": [
    "pres.agescrn.value_counts() #value counts of agescrn column"
   ]
  },
  {
   "cell_type": "code",
   "execution_count": null,
   "metadata": {
    "collapsed": false
   },
   "outputs": [],
   "source": [
    "pres.agescrn.min() #youngest"
   ]
  },
  {
   "cell_type": "code",
   "execution_count": null,
   "metadata": {
    "collapsed": false
   },
   "outputs": [],
   "source": [
    "pres.agescrn.max() #oldest"
   ]
  },
  {
   "cell_type": "code",
   "execution_count": null,
   "metadata": {
    "collapsed": false
   },
   "outputs": [],
   "source": [
    "pres[pres.caseid==2298].prglngth #pregnancy lengths for the respondent with caseid 2298"
   ]
  },
  {
   "cell_type": "code",
   "execution_count": null,
   "metadata": {
    "collapsed": false
   },
   "outputs": [],
   "source": [
    "pres[pres.agescrn<=25].pregnum.mean() #average of the Pregnancies in lifetime of who is 25 and under 25 years old"
   ]
  },
  {
   "cell_type": "code",
   "execution_count": null,
   "metadata": {
    "collapsed": false
   },
   "outputs": [],
   "source": [
    "pres[pres.agescrn==44].pregnum.mean() #average of the Pregnancies in lifetime of who is at maximum age that we found above (44)"
   ]
  },
  {
   "cell_type": "code",
   "execution_count": null,
   "metadata": {
    "collapsed": true
   },
   "outputs": [],
   "source": [
    ""
   ]
  }
 ],
 "metadata": {
  "kernelspec": {
   "display_name": "Python 3",
   "language": "python",
   "name": "python3"
  },
  "language_info": {
   "codemirror_mode": {
    "name": "ipython",
    "version": 3.0
   },
   "file_extension": ".py",
   "mimetype": "text/x-python",
   "name": "python",
   "nbconvert_exporter": "python",
   "pygments_lexer": "ipython3",
   "version": "3.6.0"
  }
 },
 "nbformat": 4,
 "nbformat_minor": 0
}